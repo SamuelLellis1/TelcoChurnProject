{
 "cells": [
  {
   "metadata": {},
   "cell_type": "markdown",
   "source": [
    "## 1. Introdução\n",
    "A evasão de clientes é um dos principais desafios enfrentados por empresas que oferecem serviços recorrentes. Com um mercado cada vez mais competitivo, compreender os fatores é fundamental para reduzir perdas e aumentar a fidelização dos clientes.\n",
    "&nbsp;\n",
    "\n",
    "O objetivo desse projeto é analisar os fatores que influenciam o abandono dos clientes e desenvolver um modelo de Machine Learning para prever quais clientes têm maior probabilidade de cancelar no futuro.\n",
    "\n",
    "Os dados utilizados foram disponibilizados no site: https://www.kaggle.com/datasets/blastchar/telco-customer-churn"
   ],
   "id": "c8df55ebc9b3cabc"
  },
  {
   "metadata": {},
   "cell_type": "markdown",
   "source": [
    "## 2. Principais perguntas\n",
    "Perguntas que tentaremos responder com essa análise:\n",
    "- Quais as principais características relacionadas ao churn?\n",
    "- É possível prever o churn com Machine Learning?\n",
    "- Quais as principais tomadas de decisão para reduzir os cancelamentos?"
   ],
   "id": "ba462f14bb5f8461"
  },
  {
   "metadata": {},
   "cell_type": "markdown",
   "source": [
    "## 3. Carregando bibliotecas e o dataset\n",
    "Primeiramente, iremos carregar as bibliotecas utilizadas no projeto e carregar os dados utilizados."
   ],
   "id": "a2fee3f7ac8862ae"
  },
  {
   "metadata": {
    "ExecuteTime": {
     "end_time": "2025-10-28T18:34:39.345121Z",
     "start_time": "2025-10-28T18:34:34.817815Z"
    }
   },
   "cell_type": "code",
   "source": [
    "import pandas as pd\n",
    "import matplotlib.pyplot as plt\n",
    "import seaborn as sns\n",
    "import numpy as np\n",
    "from imblearn.over_sampling import SMOTE\n",
    "from sklearn.linear_model import LogisticRegression\n",
    "from sklearn.model_selection import train_test_split, RandomizedSearchCV\n",
    "from sklearn.preprocessing import StandardScaler\n",
    "from sklearn.ensemble import RandomForestClassifier, StackingClassifier\n",
    "from sklearn.metrics import classification_report, confusion_matrix, roc_auc_score\n",
    "from xgboost import XGBClassifier\n",
    "\n",
    "df = pd.read_csv(\"../Data/WA_Fn-UseC_-Telco-Customer-Churn.csv\")\n",
    "df.head()"
   ],
   "id": "17a46ee21f9d63c",
   "outputs": [
    {
     "data": {
      "text/plain": [
       "   customerID  gender  SeniorCitizen Partner Dependents  tenure PhoneService  \\\n",
       "0  7590-VHVEG  Female              0     Yes         No       1           No   \n",
       "1  5575-GNVDE    Male              0      No         No      34          Yes   \n",
       "2  3668-QPYBK    Male              0      No         No       2          Yes   \n",
       "3  7795-CFOCW    Male              0      No         No      45           No   \n",
       "4  9237-HQITU  Female              0      No         No       2          Yes   \n",
       "\n",
       "      MultipleLines InternetService OnlineSecurity  ... DeviceProtection  \\\n",
       "0  No phone service             DSL             No  ...               No   \n",
       "1                No             DSL            Yes  ...              Yes   \n",
       "2                No             DSL            Yes  ...               No   \n",
       "3  No phone service             DSL            Yes  ...              Yes   \n",
       "4                No     Fiber optic             No  ...               No   \n",
       "\n",
       "  TechSupport StreamingTV StreamingMovies        Contract PaperlessBilling  \\\n",
       "0          No          No              No  Month-to-month              Yes   \n",
       "1          No          No              No        One year               No   \n",
       "2          No          No              No  Month-to-month              Yes   \n",
       "3         Yes          No              No        One year               No   \n",
       "4          No          No              No  Month-to-month              Yes   \n",
       "\n",
       "               PaymentMethod MonthlyCharges  TotalCharges Churn  \n",
       "0           Electronic check          29.85         29.85    No  \n",
       "1               Mailed check          56.95        1889.5    No  \n",
       "2               Mailed check          53.85        108.15   Yes  \n",
       "3  Bank transfer (automatic)          42.30       1840.75    No  \n",
       "4           Electronic check          70.70        151.65   Yes  \n",
       "\n",
       "[5 rows x 21 columns]"
      ],
      "text/html": [
       "<div>\n",
       "<style scoped>\n",
       "    .dataframe tbody tr th:only-of-type {\n",
       "        vertical-align: middle;\n",
       "    }\n",
       "\n",
       "    .dataframe tbody tr th {\n",
       "        vertical-align: top;\n",
       "    }\n",
       "\n",
       "    .dataframe thead th {\n",
       "        text-align: right;\n",
       "    }\n",
       "</style>\n",
       "<table border=\"1\" class=\"dataframe\">\n",
       "  <thead>\n",
       "    <tr style=\"text-align: right;\">\n",
       "      <th></th>\n",
       "      <th>customerID</th>\n",
       "      <th>gender</th>\n",
       "      <th>SeniorCitizen</th>\n",
       "      <th>Partner</th>\n",
       "      <th>Dependents</th>\n",
       "      <th>tenure</th>\n",
       "      <th>PhoneService</th>\n",
       "      <th>MultipleLines</th>\n",
       "      <th>InternetService</th>\n",
       "      <th>OnlineSecurity</th>\n",
       "      <th>...</th>\n",
       "      <th>DeviceProtection</th>\n",
       "      <th>TechSupport</th>\n",
       "      <th>StreamingTV</th>\n",
       "      <th>StreamingMovies</th>\n",
       "      <th>Contract</th>\n",
       "      <th>PaperlessBilling</th>\n",
       "      <th>PaymentMethod</th>\n",
       "      <th>MonthlyCharges</th>\n",
       "      <th>TotalCharges</th>\n",
       "      <th>Churn</th>\n",
       "    </tr>\n",
       "  </thead>\n",
       "  <tbody>\n",
       "    <tr>\n",
       "      <th>0</th>\n",
       "      <td>7590-VHVEG</td>\n",
       "      <td>Female</td>\n",
       "      <td>0</td>\n",
       "      <td>Yes</td>\n",
       "      <td>No</td>\n",
       "      <td>1</td>\n",
       "      <td>No</td>\n",
       "      <td>No phone service</td>\n",
       "      <td>DSL</td>\n",
       "      <td>No</td>\n",
       "      <td>...</td>\n",
       "      <td>No</td>\n",
       "      <td>No</td>\n",
       "      <td>No</td>\n",
       "      <td>No</td>\n",
       "      <td>Month-to-month</td>\n",
       "      <td>Yes</td>\n",
       "      <td>Electronic check</td>\n",
       "      <td>29.85</td>\n",
       "      <td>29.85</td>\n",
       "      <td>No</td>\n",
       "    </tr>\n",
       "    <tr>\n",
       "      <th>1</th>\n",
       "      <td>5575-GNVDE</td>\n",
       "      <td>Male</td>\n",
       "      <td>0</td>\n",
       "      <td>No</td>\n",
       "      <td>No</td>\n",
       "      <td>34</td>\n",
       "      <td>Yes</td>\n",
       "      <td>No</td>\n",
       "      <td>DSL</td>\n",
       "      <td>Yes</td>\n",
       "      <td>...</td>\n",
       "      <td>Yes</td>\n",
       "      <td>No</td>\n",
       "      <td>No</td>\n",
       "      <td>No</td>\n",
       "      <td>One year</td>\n",
       "      <td>No</td>\n",
       "      <td>Mailed check</td>\n",
       "      <td>56.95</td>\n",
       "      <td>1889.5</td>\n",
       "      <td>No</td>\n",
       "    </tr>\n",
       "    <tr>\n",
       "      <th>2</th>\n",
       "      <td>3668-QPYBK</td>\n",
       "      <td>Male</td>\n",
       "      <td>0</td>\n",
       "      <td>No</td>\n",
       "      <td>No</td>\n",
       "      <td>2</td>\n",
       "      <td>Yes</td>\n",
       "      <td>No</td>\n",
       "      <td>DSL</td>\n",
       "      <td>Yes</td>\n",
       "      <td>...</td>\n",
       "      <td>No</td>\n",
       "      <td>No</td>\n",
       "      <td>No</td>\n",
       "      <td>No</td>\n",
       "      <td>Month-to-month</td>\n",
       "      <td>Yes</td>\n",
       "      <td>Mailed check</td>\n",
       "      <td>53.85</td>\n",
       "      <td>108.15</td>\n",
       "      <td>Yes</td>\n",
       "    </tr>\n",
       "    <tr>\n",
       "      <th>3</th>\n",
       "      <td>7795-CFOCW</td>\n",
       "      <td>Male</td>\n",
       "      <td>0</td>\n",
       "      <td>No</td>\n",
       "      <td>No</td>\n",
       "      <td>45</td>\n",
       "      <td>No</td>\n",
       "      <td>No phone service</td>\n",
       "      <td>DSL</td>\n",
       "      <td>Yes</td>\n",
       "      <td>...</td>\n",
       "      <td>Yes</td>\n",
       "      <td>Yes</td>\n",
       "      <td>No</td>\n",
       "      <td>No</td>\n",
       "      <td>One year</td>\n",
       "      <td>No</td>\n",
       "      <td>Bank transfer (automatic)</td>\n",
       "      <td>42.30</td>\n",
       "      <td>1840.75</td>\n",
       "      <td>No</td>\n",
       "    </tr>\n",
       "    <tr>\n",
       "      <th>4</th>\n",
       "      <td>9237-HQITU</td>\n",
       "      <td>Female</td>\n",
       "      <td>0</td>\n",
       "      <td>No</td>\n",
       "      <td>No</td>\n",
       "      <td>2</td>\n",
       "      <td>Yes</td>\n",
       "      <td>No</td>\n",
       "      <td>Fiber optic</td>\n",
       "      <td>No</td>\n",
       "      <td>...</td>\n",
       "      <td>No</td>\n",
       "      <td>No</td>\n",
       "      <td>No</td>\n",
       "      <td>No</td>\n",
       "      <td>Month-to-month</td>\n",
       "      <td>Yes</td>\n",
       "      <td>Electronic check</td>\n",
       "      <td>70.70</td>\n",
       "      <td>151.65</td>\n",
       "      <td>Yes</td>\n",
       "    </tr>\n",
       "  </tbody>\n",
       "</table>\n",
       "<p>5 rows × 21 columns</p>\n",
       "</div>"
      ]
     },
     "execution_count": 2,
     "metadata": {},
     "output_type": "execute_result"
    }
   ],
   "execution_count": 2
  },
  {
   "metadata": {},
   "cell_type": "markdown",
   "source": [
    "## 4. Limpeza e pré-processamento dos dados\n",
    "Nessa etapa, iremos garantir que o conjunto de dados esteja pronto para análise e modelagem. Primeiro, verificaremos a existência de valores ausentes ou inconsistentes, que podem impactar a qualidade dos resultados. Em seguida, ajustaremos o tipo das variáveis (convertendo colunas numéricas importadas como texto) e transformaremos variáveis categóricas em formato binário, para poderem ser utilizadas adequadamente pelos algoritmos de Machine Learning.\n"
   ],
   "id": "dab21f668464481b"
  },
  {
   "metadata": {
    "ExecuteTime": {
     "end_time": "2025-10-28T18:34:39.765986Z",
     "start_time": "2025-10-28T18:34:39.694897Z"
    }
   },
   "cell_type": "code",
   "source": [
    "# Verificação de dados ausentes\n",
    "df.info()\n",
    "\n",
    "print(\"Valores nulos: \\n\",df.isnull().sum())\n",
    "\n",
    "# Corrigindo colunas numéricas salvas como string\n",
    "df[\"TotalCharges\"] = pd.to_numeric(df[\"TotalCharges\"], errors='coerce')\n",
    "df[\"TotalCharges\"] = df[\"TotalCharges\"].fillna(df[\"TotalCharges\"].median())\n",
    "\n",
    "# Converter colunas para binario\n",
    "df[\"Churn\"] = df[\"Churn\"].map({\"Yes\": 1, \"No\": 0})"
   ],
   "id": "73b56fbe94475836",
   "outputs": [
    {
     "name": "stdout",
     "output_type": "stream",
     "text": [
      "<class 'pandas.core.frame.DataFrame'>\n",
      "RangeIndex: 7043 entries, 0 to 7042\n",
      "Data columns (total 21 columns):\n",
      " #   Column            Non-Null Count  Dtype  \n",
      "---  ------            --------------  -----  \n",
      " 0   customerID        7043 non-null   object \n",
      " 1   gender            7043 non-null   object \n",
      " 2   SeniorCitizen     7043 non-null   int64  \n",
      " 3   Partner           7043 non-null   object \n",
      " 4   Dependents        7043 non-null   object \n",
      " 5   tenure            7043 non-null   int64  \n",
      " 6   PhoneService      7043 non-null   object \n",
      " 7   MultipleLines     7043 non-null   object \n",
      " 8   InternetService   7043 non-null   object \n",
      " 9   OnlineSecurity    7043 non-null   object \n",
      " 10  OnlineBackup      7043 non-null   object \n",
      " 11  DeviceProtection  7043 non-null   object \n",
      " 12  TechSupport       7043 non-null   object \n",
      " 13  StreamingTV       7043 non-null   object \n",
      " 14  StreamingMovies   7043 non-null   object \n",
      " 15  Contract          7043 non-null   object \n",
      " 16  PaperlessBilling  7043 non-null   object \n",
      " 17  PaymentMethod     7043 non-null   object \n",
      " 18  MonthlyCharges    7043 non-null   float64\n",
      " 19  TotalCharges      7043 non-null   object \n",
      " 20  Churn             7043 non-null   object \n",
      "dtypes: float64(1), int64(2), object(18)\n",
      "memory usage: 1.1+ MB\n",
      "Valores nulos: \n",
      " customerID          0\n",
      "gender              0\n",
      "SeniorCitizen       0\n",
      "Partner             0\n",
      "Dependents          0\n",
      "tenure              0\n",
      "PhoneService        0\n",
      "MultipleLines       0\n",
      "InternetService     0\n",
      "OnlineSecurity      0\n",
      "OnlineBackup        0\n",
      "DeviceProtection    0\n",
      "TechSupport         0\n",
      "StreamingTV         0\n",
      "StreamingMovies     0\n",
      "Contract            0\n",
      "PaperlessBilling    0\n",
      "PaymentMethod       0\n",
      "MonthlyCharges      0\n",
      "TotalCharges        0\n",
      "Churn               0\n",
      "dtype: int64\n"
     ]
    }
   ],
   "execution_count": 3
  },
  {
   "metadata": {},
   "cell_type": "markdown",
   "source": [
    "## 5. Análise exploratória (EDA)\n",
    "Nessa etapa, vamos analisar as variáveis categóricas e numéricas para entender os fatores que influenciam o cancelamento dos clientes."
   ],
   "id": "29ddaebf1c4752f"
  },
  {
   "metadata": {},
   "cell_type": "markdown",
   "source": [
    "#### 1.1 Distribuição de churns\n",
    "Primeiro, iremos visualizar a distribuição de clientes que cancelaram (Churn = Sim) e dos que permaneceram (Churn = Não)."
   ],
   "id": "ff95e6750bf76b4a"
  },
  {
   "metadata": {
    "ExecuteTime": {
     "end_time": "2025-10-28T18:34:40.178347Z",
     "start_time": "2025-10-28T18:34:39.797977Z"
    }
   },
   "cell_type": "code",
   "source": [
    "sns.countplot(x=df[\"Churn\"].map({0: \"Não\", 1: \"Sim\"}), color=\"skyblue\")\n",
    "plt.title(\"Distribuição de Churn: Sim e Não\", fontsize=13, weight=\"bold\")\n",
    "plt.xlabel(\"Churn\")\n",
    "plt.ylabel(\"Contagem\")\n",
    "plt.show()"
   ],
   "id": "f810e8429545ab",
   "outputs": [
    {
     "data": {
      "text/plain": [
       "<Figure size 640x480 with 1 Axes>"
      ],
      "image/png": "[encoded data removed]"
     },
     "metadata": {},
     "output_type": "display_data",
     "jetTransient": {
      "display_id": null
     }
    }
   ],
   "execution_count": 4
  },
  {
   "metadata": {},
   "cell_type": "markdown",
   "source": [
    "#### 1.2 Relação com variáveis categóricas\n",
    "Aqui e verificado a taxa media de cancelamento (em %) para cada categoria."
   ],
   "id": "1ae3bce56307050d"
  },
  {
   "metadata": {
    "ExecuteTime": {
     "end_time": "2025-10-28T18:34:41.710468Z",
     "start_time": "2025-10-28T18:34:40.193607Z"
    }
   },
   "cell_type": "code",
   "source": [
    "categorical_cols = [\"Contract\", \"PaymentMethod\", \"InternetService\"]\n",
    "for col in categorical_cols:\n",
    "    plt.figure(figsize=(6,4))\n",
    "    sns.barplot(x=col, y=\"Churn\", data=df, estimator=np.mean, palette=\"Set2\")\n",
    "    plt.title(f\"Taxa média de Churn por {col}\")\n",
    "    plt.xticks(rotation=30)\n",
    "    plt.ylabel(\"Taxa média de churn\")\n",
    "    plt.show()"
   ],
   "id": "19cc33f0b482df36",
   "outputs": [
    {
     "name": "stderr",
     "output_type": "stream",
     "text": [
      "C:\\Users\\samue\\AppData\\Local\\Temp\\ipykernel_19440\\314488524.py:4: FutureWarning: \n",
      "\n",
      "Passing `palette` without assigning `hue` is deprecated and will be removed in v0.14.0. Assign the `x` variable to `hue` and set `legend=False` for the same effect.\n",
      "\n",
      "  sns.barplot(x=col, y=\"Churn\", data=df, estimator=np.mean, palette=\"Set2\")\n"
     ]
    },
    {
     "data": {
      "text/plain": [
       "<Figure size 600x400 with 1 Axes>"
      ],
      "image/png": "[encoded data removed]"
     },
     "metadata": {},
     "output_type": "display_data",
     "jetTransient": {
      "display_id": null
     }
    },
    {
     "name": "stderr",
     "output_type": "stream",
     "text": [
      "C:\\Users\\samue\\AppData\\Local\\Temp\\ipykernel_19440\\314488524.py:4: FutureWarning: \n",
      "\n",
      "Passing `palette` without assigning `hue` is deprecated and will be removed in v0.14.0. Assign the `x` variable to `hue` and set `legend=False` for the same effect.\n",
      "\n",
      "  sns.barplot(x=col, y=\"Churn\", data=df, estimator=np.mean, palette=\"Set2\")\n"
     ]
    },
    {
     "data": {
      "text/plain": [
       "<Figure size 600x400 with 1 Axes>"
      ],
      "image/png": "[encoded data removed]"
     },
     "metadata": {},
     "output_type": "display_data",
     "jetTransient": {
      "display_id": null
     }
    },
    {
     "name": "stderr",
     "output_type": "stream",
     "text": [
      "C:\\Users\\samue\\AppData\\Local\\Temp\\ipykernel_19440\\314488524.py:4: FutureWarning: \n",
      "\n",
      "Passing `palette` without assigning `hue` is deprecated and will be removed in v0.14.0. Assign the `x` variable to `hue` and set `legend=False` for the same effect.\n",
      "\n",
      "  sns.barplot(x=col, y=\"Churn\", data=df, estimator=np.mean, palette=\"Set2\")\n"
     ]
    },
    {
     "data": {
      "text/plain": [
       "<Figure size 600x400 with 1 Axes>"
      ],
      "image/png": "[encoded data removed]"
     },
     "metadata": {},
     "output_type": "display_data",
     "jetTransient": {
      "display_id": null
     }
    }
   ],
   "execution_count": 5
  },
  {
   "metadata": {},
   "cell_type": "markdown",
   "source": [
    "#### 1.3 Correlação entre variáveis numéricas\n",
    "Agora, iremos analisar as relações entre as variáveis numéricas para identificar padrões que possam estar associados aos cancelam."
   ],
   "id": "7bc483622c663b43"
  },
  {
   "metadata": {
    "ExecuteTime": {
     "end_time": "2025-10-28T18:34:42.000303Z",
     "start_time": "2025-10-28T18:34:41.725773Z"
    }
   },
   "cell_type": "code",
   "source": [
    "plt.figure(figsize=(10,10))\n",
    "sns.heatmap(df.select_dtypes(include=np.number).corr(), annot=True, cmap=\"coolwarm\")\n",
    "plt.title(\"Matriz de Correlação\")\n",
    "plt.show()"
   ],
   "id": "af903fdfbdfcd2b8",
   "outputs": [
    {
     "data": {
      "text/plain": [
       "<Figure size 1000x1000 with 2 Axes>"
      ],
      "image/png": "[encoded data removed]"
     },
     "metadata": {},
     "output_type": "display_data",
     "jetTransient": {
      "display_id": null
     }
    }
   ],
   "execution_count": 6
  },
  {
   "metadata": {},
   "cell_type": "markdown",
   "source": [
    "# 6. Modelo de Machine Learning\n",
    "Foi criado um modelo de Machine Learning para prever se um cliente irá cancelar o serviço com base em informações contratuais, de uso e pagamentos. Logo abaixo, cada etapa do código é explicada separadamente."
   ],
   "id": "63369886de767728"
  },
  {
   "metadata": {},
   "cell_type": "markdown",
   "source": "### 1.1 Pré-processamento dos dados\n",
   "id": "785f4d1e02b0f733"
  },
  {
   "metadata": {
    "ExecuteTime": {
     "end_time": "2025-10-28T18:34:42.106907Z",
     "start_time": "2025-10-28T18:34:42.011327Z"
    }
   },
   "cell_type": "code",
   "source": [
    "if \"CustomerID\" in df.columns:\n",
    "    df.drop(\"CustomerID\", axis = 1, inplace = True)\n",
    "\n",
    "df = pd.get_dummies(df, drop_first=True)"
   ],
   "id": "77e2bfee00a3c154",
   "outputs": [],
   "execution_count": 7
  },
  {
   "metadata": {},
   "cell_type": "markdown",
   "source": [
    "- Coluna \"CustomerID\" removida, pois não contribui para a predição.\n",
    "- Usamos pd.get_dummies() para transformar variáveis categóricas em binárias (one-hot-encoding)."
   ],
   "id": "af9507e441fd9097"
  },
  {
   "metadata": {},
   "cell_type": "markdown",
   "source": "### 1.2 Separação entre variáveis explicativas e alvo",
   "id": "c2a4dfca191f3a37"
  },
  {
   "metadata": {},
   "cell_type": "code",
   "outputs": [],
   "execution_count": null,
   "source": [
    "X = df.drop(columns=[col for col in df.columns if \"Churn\" in col])\n",
    "y = df[\"Churn_Yes\"] if \"Churn_Yes\" in df.columns else df[\"Churn\"]"
   ],
   "id": "4c9acef1f6acd374"
  },
  {
   "metadata": {},
   "cell_type": "markdown",
   "source": [
    "\n",
    "- X possui as variáveis para preditoras.\n",
    "- Y possui a variável que queremos prever (\"Churn\")."
   ],
   "id": "d67dbd5a8f599070"
  },
  {
   "metadata": {},
   "cell_type": "markdown",
   "source": "Em seguida, são divididos em treino e teste:",
   "id": "75e964c112644fd"
  },
  {
   "metadata": {},
   "cell_type": "code",
   "outputs": [],
   "execution_count": null,
   "source": "X_train, X_test, y_train, y_test = train_test_split(X, y, test_size=0.2, random_state=42, stratify=y)",
   "id": "ed57e3ba251bcf1d"
  },
  {
   "metadata": {},
   "cell_type": "markdown",
   "source": "### 1.3 Padronização e balanceamento",
   "id": "4b8319c002e533b0"
  },
  {
   "metadata": {},
   "cell_type": "code",
   "outputs": [],
   "execution_count": null,
   "source": [
    "scaler = StandardScaler()\n",
    "X_train_scaled = scaler.fit_transform(X_train)\n",
    "X_test_scaled = scaler.transform(X_test)"
   ],
   "id": "5db09e285aa1b4e2"
  },
  {
   "metadata": {},
   "cell_type": "markdown",
   "source": "- Padroniza as features para que todas fiquem na mesma escala.",
   "id": "bdab3b20028b6650"
  },
  {
   "metadata": {},
   "cell_type": "code",
   "outputs": [],
   "execution_count": null,
   "source": [
    "sm = SMOTE(random_state=42)\n",
    "X_train_res,y_train_res  = sm.fit_resample(X_train_scaled, y_train)"
   ],
   "id": "9ce89661545a87e"
  },
  {
   "metadata": {},
   "cell_type": "markdown",
   "source": "- É utilizado _SMOTE_ para resolver os problemas de desbalanceamento e melhorar a capacidade preditiva.",
   "id": "ee20a4835b11f8f"
  },
  {
   "metadata": {},
   "cell_type": "markdown",
   "source": "### 1.4 Treinamento dos modelos",
   "id": "bc3c13363e78ad96"
  },
  {
   "metadata": {},
   "cell_type": "code",
   "outputs": [],
   "execution_count": null,
   "source": [
    "# RandomForest\n",
    "rf = RandomForestClassifier(random_state=42,n_estimators= 100, min_samples_split= 5, min_samples_leaf= 1, max_features= 'log2', max_depth= None, class_weight= 'balanced')\n",
    "rf_params = {\n",
    "     \"n_estimators\": [100, 200, 300, 500],\n",
    "     \"max_depth\": [5, 10, 20, None],\n",
    "     \"min_samples_split\": [2, 5, 10],\n",
    "     \"min_samples_leaf\": [1, 2, 4],\n",
    "     \"max_features\": [\"sqrt\", \"log2\"]\n",
    "    }\n",
    "rf_search = RandomizedSearchCV(rf, rf_params, cv=5, n_iter=20,scoring='f1', n_jobs=-1, random_state=42)\n",
    "rf_search.fit(X_train_res, y_train_res)\n",
    "best_rf = rf_search.best_estimator_"
   ],
   "id": "9b6a4ac1519a0fb0"
  },
  {
   "metadata": {},
   "cell_type": "markdown",
   "source": [
    "- Utilizamos um conjunto de árvores de decisão (Random Forest).\n",
    "- O RandomizedSearchCV() testa combinações de parâmetros para encontrar a configuração com melhor performance."
   ],
   "id": "871c5dbcb2880ed4"
  },
  {
   "metadata": {},
   "cell_type": "code",
   "outputs": [],
   "execution_count": null,
   "source": [
    " # XGBoost\n",
    "xgb = XGBClassifier(\n",
    "    n_estimators= 300,\n",
    "     learning_rate= 0.05,\n",
    "     max_depth= 6,\n",
    "     subsample= 0.8,\n",
    "     colsample_bytree= 0.8,\n",
    "     random_state= 42,\n",
    "     use_label_encoder = False,\n",
    "     eval_metric= \"logloss\"\n",
    "    )\n",
    "xgb_params = {\n",
    "    'n_estimators': [100, 200, 300, 500],\n",
    "    'learning_rate': [0.01, 0.05, 0.1],\n",
    "     'max_depth': [3, 5, 7, 10],\n",
    "     'subsample': [0.7, 0.8, 0.9],\n",
    "     'colsample_bytree': [0.7, 0.8, 0.9],\n",
    "     'gamma': [0, 0.1, 0.3]\n",
    "    }\n",
    "xgb_search = RandomizedSearchCV(xgb, xgb_params, cv = 5, n_iter= 20, scoring= 'f1', n_jobs=-1, random_state= 42)\n",
    "xgb_search.fit(X_train_res, y_train_res)\n",
    "best_xgb = xgb_search.best_estimator_"
   ],
   "id": "ed775dcbb1c74532"
  },
  {
   "metadata": {},
   "cell_type": "markdown",
   "source": "- Também foi utilizado um modelo de boosting (XGBoost) para detectar padrões complexos.",
   "id": "6ee325ae31239ccb"
  },
  {
   "metadata": {},
   "cell_type": "markdown",
   "source": "### 1.5 Stacking dos modelos",
   "id": "b1d0e6c8bced9db8"
  },
  {
   "metadata": {},
   "cell_type": "code",
   "outputs": [],
   "execution_count": null,
   "source": [
    "# Stacking\n",
    "base_models = [\n",
    "    (\"rf\", best_rf),\n",
    "    (\"xgb\", best_xgb)\n",
    "]\n",
    "meta_model = LogisticRegression(max_iter=1000, random_state=42)\n",
    "stacking= StackingClassifier(\n",
    "    estimators = base_models,\n",
    "    final_estimator= meta_model,\n",
    "    cv= 5,\n",
    "    stack_method= \"predict_proba\",\n",
    "    n_jobs= -1\n",
    "    )\n",
    "stacking.fit(X_train_res,y_train_res)"
   ],
   "id": "aae4e1b8656aa7c5"
  },
  {
   "metadata": {},
   "cell_type": "markdown",
   "source": [
    "- O stacking combina as previsões dos modelos.\n",
    "- Esse modelo reduz o viés e variância, aumentando a precisão dos resultados."
   ],
   "id": "7c87ea02ed1151e8"
  },
  {
   "metadata": {},
   "cell_type": "markdown",
   "source": "### 1.6 Avaliação dos resultados",
   "id": "cf294a32db21e6ed"
  },
  {
   "metadata": {},
   "cell_type": "code",
   "outputs": [],
   "execution_count": null,
   "source": [
    " # Avaliacao\n",
    "pred = stacking.predict(X_test_scaled)\n",
    "proba = stacking.predict_proba(X_test_scaled)[:, 1]\n",
    "\n",
    "print(\"Parâmetros randomforest:\",rf_search.best_params_)\n",
    "print(\"Relatorio de classificação\",classification_report(y_test, pred))\n",
    "print(\"ROC_AUG:\",round(roc_auc_score(y_test, proba),3))\n",
    "print(\"Matriz de Confusão\", confusion_matrix(y_test, pred))"
   ],
   "id": "736bad4fca4b986f"
  },
  {
   "metadata": {},
   "cell_type": "markdown",
   "source": [
    "Metricas utilizadas para avaliar o modelo:\n",
    "- ROC-AUC(capacidade do modelo em separar classe)\n",
    "- Matriz de confusao(acertos e erros por classe)\n",
    "- Relatório de classificação (precision, recall e F1-score)"
   ],
   "id": "c5bff552d6bbc153"
  },
  {
   "metadata": {},
   "cell_type": "markdown",
   "source": [
    "# 7. Insights Obtidos\n",
    "Com base na análise dos dados realizada, identificamos padrões relevantes que ajudam a compreender o comportamento de clientes que tendem a cancelar o serviço."
   ],
   "id": "d28ea9eaed3a4050"
  },
  {
   "metadata": {
    "ExecuteTime": {
     "end_time": "2025-10-27T23:35:25.381695Z",
     "start_time": "2025-10-27T23:35:25.325477Z"
    }
   },
   "cell_type": "markdown",
   "source": [
    "### **Impacto do Tipo de Contrato**\n",
    "\n",
    "- Clientes que possuem contrato mensal representam 88,55% dos cancelamentos.\n",
    "- Contratos anuais e bienais somam menos de 15% dos cancelamentos totais. Isso mostra que contratos de longo prazo reduzem drasticamente a quantidade de cancelamentos.\n",
    "\n",
    "<center> <img src = \"Cancelamentos.jpg\" alt = \"jpg_python\" width = \"900\"> </center>\n",
    "\n"
   ],
   "id": "769c82a5bc43fc2b"
  },
  {
   "metadata": {},
   "cell_type": "markdown",
   "source": [
    "### **Importancia do Suporte Tecnico**\n",
    "- O maior número de cancelamentos ocorre entre clientes **sem acesso ao suporte tecnico.**\n",
    "- Clientes sem internet sao o menor grupo. Isso indica que nao dependem tanto do suporte tecnico, ou sao um nicho especifico.\n",
    "- Quando ha acesso ao suporte, a quantidade de cancelamentos e reduzida significamente.\n",
    "<center> <img src = \"TechSupport.jpg\" alt = \"jpg_python\" width = \"900\"> </center>"
   ],
   "id": "fffdf3ac0aa0f2fa"
  },
  {
   "metadata": {},
   "cell_type": "markdown",
   "source": [
    "### **Tempo de Permanência**\n",
    "- O maior número de cancelamentos ocorre entre 0 e 6 meses.\n",
    "- Clientes que permanecem mais de 2 anos demonstram maior lealdade à empresa.\n",
    "— Há um aumento expressivo de clientes ativos entre 24 e 36 meses. Isso indica que planos bienais são importantes para retenção de clientes.\n",
    "\n",
    "<center> <img src = \"Tenure.jpg\" alt = \"jpg_python\" width = \"900\"> </center>"
   ],
   "id": "6f40228bcf92760e"
  },
  {
   "metadata": {},
   "cell_type": "markdown",
   "source": [
    "# 8. Recomendações\n",
    "Com base nos insights obtidos, recomendamos as seguintes ações:\n",
    "1. Melhorar onboarding e suporte inicial\n",
    "- Criar um programa de acompanhamento nos primeiros meses, com foco em clientes novos.\n",
    "- Oferecer suporte proativo nas primeiras semanas.\n",
    "2. Incentivar planos de maior valor\n",
    "- Criar planos personalizados para novos usuários com benefícios e descontos exclusivos.\n",
    "- Identificar clientes com alto risco de evasão e abordá-los com ofertas direcionadas.\n",
    "3. Aprimorar o suporte técnico.\n",
    "- Reduzir o tempo para o atendimento e aumentar a resolução no primeiro contato.\n",
    "- Melhorias no atendimento com foco em retenção e empatia com o cliente.\n",
    "4. Monitorar indicadores de risco\n",
    "- Utilizar o modelo de machine learning para classificar novos clientes por nível de risco, tomando ações preventivas."
   ],
   "id": "42de237df16a24b9"
  },
  {
   "metadata": {},
   "cell_type": "markdown",
   "source": [
    "# 9. Contato\n",
    "Samuel Lellis\n",
    "&nbsp;\n",
    "\n",
    " https://www.linkedin.com/in/samuel-lellis-293258346\n",
    "&nbsp;\n",
    "\n",
    " https://github.com/SamuelLellis1\n",
    "\n",
    "&nbsp;\n",
    "samuellellis1337@gmail.com"
   ],
   "id": "7df70dd2ec204fd"
  }
 ],
 "metadata": {
  "kernelspec": {
   "display_name": "Python 3",
   "language": "python",
   "name": "python3"
  },
  "language_info": {
   "codemirror_mode": {
    "name": "ipython",
    "version": 2
   },
   "file_extension": ".py",
   "mimetype": "text/x-python",
   "name": "python",
   "nbconvert_exporter": "python",
   "pygments_lexer": "ipython2",
   "version": "2.7.6"
  }
 },
 "nbformat": 4,
 "nbformat_minor": 5
}
